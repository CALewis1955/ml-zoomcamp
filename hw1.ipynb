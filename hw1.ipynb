{
 "cells": [
  {
   "cell_type": "code",
   "execution_count": 2,
   "id": "c914f97c-b946-43b2-81cd-ec22821c24cb",
   "metadata": {},
   "outputs": [
    {
     "name": "stdout",
     "output_type": "stream",
     "text": [
      "Requirement already satisfied: pandas in /home/codespace/.local/lib/python3.12/site-packages (2.2.2)\n",
      "Requirement already satisfied: numpy>=1.26.0 in /home/codespace/.local/lib/python3.12/site-packages (from pandas) (2.1.0)\n",
      "Requirement already satisfied: python-dateutil>=2.8.2 in /home/codespace/.local/lib/python3.12/site-packages (from pandas) (2.9.0.post0)\n",
      "Requirement already satisfied: pytz>=2020.1 in /home/codespace/.local/lib/python3.12/site-packages (from pandas) (2024.1)\n",
      "Requirement already satisfied: tzdata>=2022.7 in /home/codespace/.local/lib/python3.12/site-packages (from pandas) (2024.1)\n",
      "Requirement already satisfied: six>=1.5 in /home/codespace/.local/lib/python3.12/site-packages (from python-dateutil>=2.8.2->pandas) (1.16.0)\n",
      "Note: you may need to restart the kernel to use updated packages.\n"
     ]
    }
   ],
   "source": [
    "pip install pandas"
   ]
  },
  {
   "cell_type": "markdown",
   "id": "a4b5e0a1-e457-4e0f-9bb4-ee6c06d2cd3b",
   "metadata": {},
   "source": [
    "# Q.1"
   ]
  },
  {
   "cell_type": "code",
   "execution_count": 3,
   "id": "12167ede-0eae-4d02-89de-3a64bc1ac8bb",
   "metadata": {},
   "outputs": [
    {
     "data": {
      "text/plain": [
       "'2.2.2'"
      ]
     },
     "execution_count": 3,
     "metadata": {},
     "output_type": "execute_result"
    }
   ],
   "source": [
    "import pandas as pd\n",
    "pd.__version__"
   ]
  },
  {
   "cell_type": "code",
   "execution_count": 4,
   "id": "ddc5a611-b61e-46eb-9497-7748c117a3b9",
   "metadata": {},
   "outputs": [
    {
     "name": "stdout",
     "output_type": "stream",
     "text": [
      "--2024-09-19 14:52:14--  https://raw.githubusercontent.com/alexeygrigorev/datasets/master/laptops.csv\n",
      "Resolving raw.githubusercontent.com (raw.githubusercontent.com)... 185.199.108.133, 185.199.109.133, 185.199.110.133, ...\n",
      "Connecting to raw.githubusercontent.com (raw.githubusercontent.com)|185.199.108.133|:443... connected.\n",
      "HTTP request sent, awaiting response... 200 OK\n",
      "Length: 298573 (292K) [text/plain]\n",
      "Saving to: ‘laptops.csv’\n",
      "\n",
      "laptops.csv         100%[===================>] 291.58K  --.-KB/s    in 0.02s   \n",
      "\n",
      "2024-09-19 14:52:14 (14.3 MB/s) - ‘laptops.csv’ saved [298573/298573]\n",
      "\n"
     ]
    }
   ],
   "source": [
    "! wget https://raw.githubusercontent.com/alexeygrigorev/datasets/master/laptops.csv -O laptops.csv"
   ]
  },
  {
   "cell_type": "markdown",
   "id": "ada3c070-bbea-4c24-9d38-85de7da3f318",
   "metadata": {},
   "source": [
    "# Q.2"
   ]
  },
  {
   "cell_type": "code",
   "execution_count": 5,
   "id": "9ad18d86-06f6-49a0-84be-d777ca4034d7",
   "metadata": {},
   "outputs": [
    {
     "name": "stdout",
     "output_type": "stream",
     "text": [
      "<class 'pandas.core.frame.DataFrame'>\n",
      "RangeIndex: 2160 entries, 0 to 2159\n",
      "Data columns (total 12 columns):\n",
      " #   Column        Non-Null Count  Dtype  \n",
      "---  ------        --------------  -----  \n",
      " 0   Laptop        2160 non-null   object \n",
      " 1   Status        2160 non-null   object \n",
      " 2   Brand         2160 non-null   object \n",
      " 3   Model         2160 non-null   object \n",
      " 4   CPU           2160 non-null   object \n",
      " 5   RAM           2160 non-null   int64  \n",
      " 6   Storage       2160 non-null   int64  \n",
      " 7   Storage type  2118 non-null   object \n",
      " 8   GPU           789 non-null    object \n",
      " 9   Screen        2156 non-null   float64\n",
      " 10  Touch         2160 non-null   object \n",
      " 11  Final Price   2160 non-null   float64\n",
      "dtypes: float64(2), int64(2), object(8)\n",
      "memory usage: 202.6+ KB\n"
     ]
    }
   ],
   "source": [
    "df = pd.read_csv(\"laptops.csv\")\n",
    "df.info()"
   ]
  },
  {
   "cell_type": "markdown",
   "id": "6ccdc43d-5beb-44f3-a122-a1f99e260034",
   "metadata": {},
   "source": [
    "### 2160 rows"
   ]
  },
  {
   "cell_type": "markdown",
   "id": "bf5e3f8d-175b-40a4-b0c8-218cb07f17ab",
   "metadata": {},
   "source": [
    "# Q.3"
   ]
  },
  {
   "cell_type": "code",
   "execution_count": 6,
   "id": "8fc7e669-aae0-4342-8e16-eb77727e2be1",
   "metadata": {},
   "outputs": [
    {
     "data": {
      "text/plain": [
       "27"
      ]
     },
     "execution_count": 6,
     "metadata": {},
     "output_type": "execute_result"
    }
   ],
   "source": [
    "df.Brand.nunique()"
   ]
  },
  {
   "cell_type": "markdown",
   "id": "94d2b193-f2a7-4775-916b-473de25cd601",
   "metadata": {},
   "source": [
    "# Q.4"
   ]
  },
  {
   "cell_type": "code",
   "execution_count": 7,
   "id": "8b81e6fb-7fe4-490e-8ab4-b0c626792ffb",
   "metadata": {},
   "outputs": [
    {
     "data": {
      "text/plain": [
       "['Storage type', 'GPU', 'Screen']"
      ]
     },
     "execution_count": 7,
     "metadata": {},
     "output_type": "execute_result"
    }
   ],
   "source": [
    "[c for c in df.columns if df[c].isna().any()]"
   ]
  },
  {
   "cell_type": "markdown",
   "id": "912b7c1f-47c2-4c30-874f-9eb3c71f8395",
   "metadata": {},
   "source": [
    "# Q.5"
   ]
  },
  {
   "cell_type": "code",
   "execution_count": 8,
   "id": "24578257-3fde-4b76-b5c6-6adf5bfe355a",
   "metadata": {},
   "outputs": [
    {
     "data": {
      "text/plain": [
       "np.float64(3936.0)"
      ]
     },
     "execution_count": 8,
     "metadata": {},
     "output_type": "execute_result"
    }
   ],
   "source": [
    "df[df.Brand == \"Dell\"][\"Final Price\"].max()"
   ]
  },
  {
   "cell_type": "markdown",
   "id": "b85e3ba7-b9c7-40f2-ba83-5bf4e9ada8af",
   "metadata": {},
   "source": [
    "# Q.6"
   ]
  },
  {
   "cell_type": "code",
   "execution_count": 9,
   "id": "0493df00-4809-4a32-85b0-06b33384f3e1",
   "metadata": {},
   "outputs": [],
   "source": [
    "median = df.Screen.median()"
   ]
  },
  {
   "cell_type": "code",
   "execution_count": 10,
   "id": "844a7d5a-3642-43fa-8628-baba42c81a7a",
   "metadata": {},
   "outputs": [],
   "source": [
    "mode = df.Screen.mode()"
   ]
  },
  {
   "cell_type": "code",
   "execution_count": 11,
   "id": "58335582-8394-443b-9148-fb9a31e33efc",
   "metadata": {},
   "outputs": [
    {
     "name": "stdout",
     "output_type": "stream",
     "text": [
      "15.6 0    15.6\n",
      "Name: Screen, dtype: float64\n"
     ]
    }
   ],
   "source": [
    "print(median, mode)"
   ]
  },
  {
   "cell_type": "code",
   "execution_count": 12,
   "id": "fa8e5976-7a03-4fba-b1d3-47e74d929679",
   "metadata": {},
   "outputs": [],
   "source": [
    "df['Screen'] = df['Screen'].fillna(mode)"
   ]
  },
  {
   "cell_type": "code",
   "execution_count": 13,
   "id": "ec6de1c7-20d2-48b4-9582-d84fe2f0e502",
   "metadata": {},
   "outputs": [
    {
     "data": {
      "text/plain": [
       "np.float64(15.6)"
      ]
     },
     "execution_count": 13,
     "metadata": {},
     "output_type": "execute_result"
    }
   ],
   "source": [
    "df.Screen.median()"
   ]
  },
  {
   "cell_type": "markdown",
   "id": "9d7bb929-5981-45a1-ad54-d915d18a7b7d",
   "metadata": {},
   "source": [
    "### No"
   ]
  },
  {
   "cell_type": "markdown",
   "id": "78bd9269-59cc-44c0-a835-5e0425129596",
   "metadata": {},
   "source": [
    "# Q.7"
   ]
  },
  {
   "cell_type": "code",
   "execution_count": 26,
   "id": "09d7f850-db06-4161-b91e-59f9ff651185",
   "metadata": {},
   "outputs": [],
   "source": [
    "import numpy as np"
   ]
  },
  {
   "cell_type": "code",
   "execution_count": 27,
   "id": "e69d9ce7-dc26-4864-a8ce-87ca7d9907bc",
   "metadata": {
    "editable": true,
    "slideshow": {
     "slide_type": ""
    },
    "tags": []
   },
   "outputs": [],
   "source": [
    "X = np.array(df[df.Brand == \"Innjoo\"][['RAM', 'Storage', 'Screen']])"
   ]
  },
  {
   "cell_type": "code",
   "execution_count": 28,
   "id": "bc7e09da-9fdc-44bf-be76-b939f218e380",
   "metadata": {
    "editable": true,
    "slideshow": {
     "slide_type": ""
    },
    "tags": []
   },
   "outputs": [
    {
     "data": {
      "text/plain": [
       "array([[  8. , 256. ,  15.6],\n",
       "       [  8. , 512. ,  15.6],\n",
       "       [  4. ,  64. ,  14.1],\n",
       "       [  6. ,  64. ,  14.1],\n",
       "       [  6. , 128. ,  14.1],\n",
       "       [  6. , 128. ,  14.1]])"
      ]
     },
     "execution_count": 28,
     "metadata": {},
     "output_type": "execute_result"
    }
   ],
   "source": [
    "X"
   ]
  },
  {
   "cell_type": "code",
   "execution_count": 29,
   "id": "9e7eb8f5-81f8-4951-ae13-11a822a155ca",
   "metadata": {},
   "outputs": [],
   "source": [
    "XTX = X.T.dot(X)"
   ]
  },
  {
   "cell_type": "code",
   "execution_count": 30,
   "id": "66160045-b89b-4d29-a8cd-03f88c075340",
   "metadata": {},
   "outputs": [
    {
     "data": {
      "text/plain": [
       "array([[2.52000e+02, 8.32000e+03, 5.59800e+02],\n",
       "       [8.32000e+03, 3.68640e+05, 1.73952e+04],\n",
       "       [5.59800e+02, 1.73952e+04, 1.28196e+03]])"
      ]
     },
     "execution_count": 30,
     "metadata": {},
     "output_type": "execute_result"
    }
   ],
   "source": [
    "XTX"
   ]
  },
  {
   "cell_type": "code",
   "execution_count": 31,
   "id": "0ea7da19-1068-4728-a3ef-765e6533c5f3",
   "metadata": {},
   "outputs": [],
   "source": [
    "inv = np.linalg.inv(XTX) "
   ]
  },
  {
   "cell_type": "code",
   "execution_count": 33,
   "id": "ab5efb4e-9026-417b-9d7e-a20c400a3a65",
   "metadata": {},
   "outputs": [],
   "source": [
    "y = [1100, 1300, 800, 900, 1000, 1100]"
   ]
  },
  {
   "cell_type": "code",
   "execution_count": 34,
   "id": "6ea1f811-5b73-40bf-ada3-45c0088dd36c",
   "metadata": {},
   "outputs": [],
   "source": [
    "w = (inv.dot(X.T)).dot(y)"
   ]
  },
  {
   "cell_type": "code",
   "execution_count": 35,
   "id": "019c5daf-95b2-4e6e-974c-d34785538949",
   "metadata": {},
   "outputs": [
    {
     "data": {
      "text/plain": [
       "array([45.58076606,  0.42783519, 45.29127938])"
      ]
     },
     "execution_count": 35,
     "metadata": {},
     "output_type": "execute_result"
    }
   ],
   "source": [
    "w"
   ]
  },
  {
   "cell_type": "code",
   "execution_count": 36,
   "id": "9c394e5d-1720-4e65-b202-ed8d788c59f4",
   "metadata": {},
   "outputs": [
    {
     "data": {
      "text/plain": [
       "np.float64(91.2998806299555)"
      ]
     },
     "execution_count": 36,
     "metadata": {},
     "output_type": "execute_result"
    }
   ],
   "source": [
    "w.sum()"
   ]
  },
  {
   "cell_type": "code",
   "execution_count": null,
   "id": "8aa1ef51-718b-4927-a4cd-5b2773ea2582",
   "metadata": {},
   "outputs": [],
   "source": []
  }
 ],
 "metadata": {
  "kernelspec": {
   "display_name": "Python 3 (ipykernel)",
   "language": "python",
   "name": "python3"
  },
  "language_info": {
   "codemirror_mode": {
    "name": "ipython",
    "version": 3
   },
   "file_extension": ".py",
   "mimetype": "text/x-python",
   "name": "python",
   "nbconvert_exporter": "python",
   "pygments_lexer": "ipython3",
   "version": "3.12.1"
  }
 },
 "nbformat": 4,
 "nbformat_minor": 5
}
